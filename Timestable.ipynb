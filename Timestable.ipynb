{
  "cells": [
    {
      "cell_type": "markdown",
      "metadata": {
        "id": "view-in-github",
        "colab_type": "text"
      },
      "source": [
        "<a href=\"https://colab.research.google.com/github/Lordknows18/Lordknows18/blob/main/Timestable.ipynb\" target=\"_parent\"><img src=\"https://colab.research.google.com/assets/colab-badge.svg\" alt=\"Open In Colab\"/></a>"
      ]
    },
    {
      "cell_type": "code",
      "execution_count": 5,
      "id": "86146136-2468-4491-9793-8abbfb3efa18",
      "metadata": {
        "id": "86146136-2468-4491-9793-8abbfb3efa18",
        "colab": {
          "base_uri": "https://localhost:8080/",
          "height": 0
        },
        "outputId": "da1bbd3a-fa27-44d9-f716-aee83f3cb531"
      },
      "outputs": [
        {
          "output_type": "stream",
          "name": "stdout",
          "text": [
            "Enter a number: 8\n",
            "\n",
            "Times Table for 8:\n",
            "\n",
            "8 × 1 = 8\n",
            "8 × 2 = 16\n",
            "8 × 3 = 24\n",
            "8 × 4 = 32\n",
            "8 × 5 = 40\n",
            "8 × 6 = 48\n",
            "8 × 7 = 56\n",
            "8 × 8 = 64\n",
            "8 × 9 = 72\n",
            "8 × 10 = 80\n",
            "8 × 11 = 88\n",
            "8 × 12 = 96\n"
          ]
        }
      ],
      "source": [
        "# 1. Give a guess what you think this code is going to do before you run it.\n",
        "num = int(input(\"Enter a number: \"))   #2. What do you think this line is going to do?\n",
        "\n",
        "\n",
        "print(f\"\\nTimes Table for {num}:\\n\")     #3. There is an error on this line can you find it and fix it?\n",
        "for i in range(1, 13):                 #4. Any guess as to what this strange line is supposed to do?\n",
        "    print(f\"{num} × {i} = {num * i}\")  #5. There's an error here too. Try to fix it.\n",
        "\n",
        ""
      ]
    },
    {
      "cell_type": "code",
      "execution_count": 7,
      "id": "e61198ea-5e59-48fc-9672-d25a356bfe19",
      "metadata": {
        "id": "e61198ea-5e59-48fc-9672-d25a356bfe19",
        "colab": {
          "base_uri": "https://localhost:8080/",
          "height": 0
        },
        "outputId": "bb3c1644-9db6-4264-cfbd-0865d4a5bb9c"
      },
      "outputs": [
        {
          "output_type": "stream",
          "name": "stdout",
          "text": [
            "1. I think is a numeric codes\n",
            "2. I think Calculation\n",
            "3.I think multiplication table\n"
          ]
        }
      ],
      "source": [
        "print(\"1. I think is a numeric codes\")\n",
        "print(\"2. I think Calculation\")\n",
        "print(\"3.I think multiplication table\")\n"
      ]
    }
  ],
  "metadata": {
    "kernelspec": {
      "display_name": "Python 3 (ipykernel)",
      "language": "python",
      "name": "python3"
    },
    "language_info": {
      "codemirror_mode": {
        "name": "ipython",
        "version": 3
      },
      "file_extension": ".py",
      "mimetype": "text/x-python",
      "name": "python",
      "nbconvert_exporter": "python",
      "pygments_lexer": "ipython3",
      "version": "3.9.2"
    },
    "colab": {
      "provenance": [],
      "include_colab_link": true
    }
  },
  "nbformat": 4,
  "nbformat_minor": 5
}